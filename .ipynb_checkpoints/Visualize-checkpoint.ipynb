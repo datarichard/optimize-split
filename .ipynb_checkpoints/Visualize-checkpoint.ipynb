{
 "cells": [
  {
   "cell_type": "markdown",
   "metadata": {},
   "source": [
    "# Visualize and optimize"
   ]
  },
  {
   "cell_type": "code",
   "execution_count": 386,
   "metadata": {},
   "outputs": [
    {
     "data": {
      "text/plain": [
       "array([[  562.  ,     5.88,     5.92,     0.03],\n",
       "       [ 2541.  ,     5.53,     7.  ,     1.47],\n",
       "       [ 2542.  ,     6.32,     5.83,    -0.49],\n",
       "       [ 2571.  ,     6.03,     5.83,    -0.19],\n",
       "       [ 2572.  ,     6.4 ,     7.33,     0.93],\n",
       "       [ 4111.  ,     7.45,     6.83,    -0.61],\n",
       "       [ 4162.  ,     6.57,     5.72,    -0.85],\n",
       "       [ 4881.  ,     6.12,     4.97,    -1.15],\n",
       "       [ 4882.  ,     6.96,     5.95,    -1.01],\n",
       "       [ 4981.  ,     6.12,     5.92,    -0.21]])"
      ]
     },
     "execution_count": 386,
     "metadata": {},
     "output_type": "execute_result"
    }
   ],
   "source": [
    "import numpy as np\n",
    "np.set_printoptions(precision=2, suppress=True) # display 2 d.p.\n",
    "data = np.genfromtxt('data.csv', delimiter=',', skip_header=1)\n",
    "data[:10].view()  # view the first 10 records"
   ]
  },
  {
   "cell_type": "code",
   "execution_count": 387,
   "metadata": {},
   "outputs": [
    {
     "data": {
      "text/plain": [
       "<seaborn.axisgrid.JointGrid at 0x11c6696d8>"
      ]
     },
     "execution_count": 387,
     "metadata": {},
     "output_type": "execute_result"
    },
    {
     "data": {
      "image/png": "[encoded data removed]",
      "text/plain": [
       "<matplotlib.figure.Figure at 0x11f78b470>"
      ]
     },
     "metadata": {},
     "output_type": "display_data"
    }
   ],
   "source": [
    "from scipy import stats, integrate\n",
    "import matplotlib.pyplot as pl\n",
    "import seaborn as ss\n",
    "%matplotlib inline\n",
    "\n",
    "d = data[:,1:3]\n",
    "ss.set(color_codes=True)\n",
    "ss.jointplot(x=d[:,0], y=d[:,1])\n",
    "#ss.jointplot(x=d[:,0], y=d[:,1], kind=\"kde\");"
   ]
  },
  {
   "cell_type": "code",
   "execution_count": 719,
   "metadata": {},
   "outputs": [
    {
     "data": {
      "text/plain": [
       "2"
      ]
     },
     "execution_count": 719,
     "metadata": {},
     "output_type": "execute_result"
    }
   ],
   "source": [
    "def split_cost(params, array=d): # array = [actHrs, psqiHrs], params = [lo, hi]\n",
    "    \n",
    "    x = array[~np.isnan(array[:,0]),0] # remove NaNs from array for readability\n",
    "    y = array[~np.isnan(array[:,1]),1]\n",
    "    lo = params[0]\n",
    "    hi = params[1]\n",
    "    \n",
    "    if lo < max(x.min(), y.min()):\n",
    "        lo = max(x.min(), y.min())\n",
    "    \n",
    "    if hi > min(x.max(), x.max()):\n",
    "        hi = min(x.max(), y.max())\n",
    "    \n",
    "    loErr = abs(sum(x <= lo) - sum(y <= lo))\n",
    "    hiErr = abs(sum(x >= hi) - sum(y >= hi))\n",
    "    sumErr = loErr + hiErr\n",
    "    return sumErr\n",
    "\n",
    "split_cost([4,7])"
   ]
  },
  {
   "cell_type": "code",
   "execution_count": 389,
   "metadata": {},
   "outputs": [
    {
     "data": {
      "text/plain": [
       "array([[ 4.,  4.,  4., ...,  5.,  5.,  5.],\n",
       "       [ 4.,  4.,  4., ...,  5.,  5.,  5.],\n",
       "       [ 4.,  4.,  4., ...,  5.,  5.,  5.],\n",
       "       ..., \n",
       "       [ 8.,  8.,  8., ...,  9.,  9.,  9.],\n",
       "       [ 8.,  8.,  8., ...,  9.,  9.,  9.],\n",
       "       [ 8.,  8.,  8., ...,  9.,  9.,  9.]])"
      ]
     },
     "execution_count": 389,
     "metadata": {},
     "output_type": "execute_result"
    }
   ],
   "source": [
    "x = np.linspace(4,13,num=120)\n",
    "y = np.linspace(4,13,num=120)\n",
    "\n",
    "#results = pd.DataFrame(0, index = x, columns = y)\n",
    "Z = np.empty([len(x),len(y)])\n",
    "                    \n",
    "for row,i in enumerate(x):\n",
    "    for col,j in enumerate(y):\n",
    "        array = d\n",
    "        params = [i,j]\n",
    "        Z[row,col] = split_cost(array,params)\n",
    "        \n",
    "Z.view()"
   ]
  },
  {
   "cell_type": "code",
   "execution_count": 390,
   "metadata": {},
   "outputs": [
    {
     "data": {
      "text/plain": [
       "(120, 120)"
      ]
     },
     "execution_count": 390,
     "metadata": {},
     "output_type": "execute_result"
    }
   ],
   "source": [
    "X = np.tile(x,(120,1))\n",
    "X.shape"
   ]
  },
  {
   "cell_type": "code",
   "execution_count": 391,
   "metadata": {},
   "outputs": [
    {
     "data": {
      "text/plain": [
       "(120, 120)"
      ]
     },
     "execution_count": 391,
     "metadata": {},
     "output_type": "execute_result"
    }
   ],
   "source": [
    "Y = np.tile(y,(120,1))\n",
    "Y = Y.T\n",
    "Y.shape"
   ]
  },
  {
   "cell_type": "code",
   "execution_count": 392,
   "metadata": {},
   "outputs": [
    {
     "data": {
      "image/png": "[encoded data removed]",
      "text/plain": [
       "<matplotlib.figure.Figure at 0x11bede470>"
      ]
     },
     "metadata": {},
     "output_type": "display_data"
    }
   ],
   "source": [
    "from mpl_toolkits.mplot3d import axes3d\n",
    "import matplotlib.animation\n",
    "%matplotlib inline\n",
    "\n",
    "fig = pl.figure(figsize=(12,5))\n",
    "ax = fig.add_subplot(121, projection='3d')\n",
    "ax.plot_wireframe(X, Y, Z, rstride=10, cstride=10)\n",
    "ax.view_init(30,30)\n",
    "\n",
    "ax = fig.add_subplot(122)\n",
    "ax = ss.heatmap(Z, cmap=\"Blues\", xticklabels=False, yticklabels=False)\n",
    "pl.show()"
   ]
  },
  {
   "cell_type": "code",
   "execution_count": 776,
   "metadata": {},
   "outputs": [],
   "source": [
    "class GD(): \n",
    "    def __init__(self, eta=0.1, x0=[8,8], max_iter=50, diff_to_stop=0.01, delta=0.01): \n",
    "        self.x0 = np.asarray(x0) #randomly initialize any value\n",
    "        self.delta = delta #used for gradient calculations\n",
    "        self.eta = eta #learning rate \n",
    "        self.diff_to_stop = diff_to_stop #stop if steps are smaller than this\n",
    "        self.max_iter = max_iter #when to stop\n",
    "\n",
    "    def run(self, f):        \n",
    "        x_new = self.x0\n",
    "        iter_no = 0\n",
    "        pl.figure(figsize=(5, 5))\n",
    "        \n",
    "        # add feature scaling between 0 and 1 \n",
    "        \n",
    "        while True:\n",
    "            iter_no += 1\n",
    "            \n",
    "            # main algorithm\n",
    "            x = x_new # note: x_new is the position of the previous move\n",
    "            grad0 = (f([x[0]+self.delta, x[1]]) - f(x))/self.delta # evaluate gradient at x[0]\n",
    "            grad1 = (f([x[0], x[1]+self.delta]) - f(x))/self.delta\n",
    "            grad = np.asarray([grad0,grad1])\n",
    "            #grad = (f(x+self.delta) - f(x))/self.delta*x\n",
    "            x_new = x - self.eta*grad # move in the direction of the gradient\n",
    "            # end of main\n",
    "            \n",
    "            # plot cost function\n",
    "            pl.scatter(iter_no, f(x), color='r')\n",
    "            pl.scatter(iter_no, -grad[0], color='b')\n",
    "            pl.scatter(iter_no, -grad[1], color='k')\n",
    "            \n",
    "            # test for convergence:\n",
    "            step_size = np.abs(x_new-x) < self.diff_to_stop\n",
    "            if step_size.all():\n",
    "                print('Successfully converged. Final cost = {} after {} iterations'.format(f(x), iter_no))\n",
    "                return x, f(x)\n",
    "            elif iter_no == self.max_iter:\n",
    "                print('Max iterations reached. Convergence not guaranteed. Grad={}'.format(grad))\n",
    "                return x, f(x)"
   ]
  },
  {
   "cell_type": "code",
   "execution_count": 777,
   "metadata": {},
   "outputs": [
    {
     "name": "stdout",
     "output_type": "stream",
     "text": [
      "Successfully converged. Final cost = 20 after 307 iterations!\n"
     ]
    },
    {
     "data": {
      "text/plain": [
       "(array([ 8.  ,  7.09]), 20)"
      ]
     },
     "execution_count": 777,
     "metadata": {},
     "output_type": "execute_result"
    },
    {
     "data": {
      "image/png": "[encoded data removed]",
      "text/plain": [
       "<matplotlib.figure.Figure at 0x1216c2160>"
      ]
     },
     "metadata": {},
     "output_type": "display_data"
    }
   ],
   "source": [
    "#def f(x):\n",
    "#    return (x)**2\n",
    "\n",
    "GD(eta=0.0005, x0=[8,8], max_iter=1000, diff_to_stop=0.001, delta=0.5).run(split_cost)"
   ]
  },
  {
   "cell_type": "code",
   "execution_count": 649,
   "metadata": {},
   "outputs": [
    {
     "name": "stdout",
     "output_type": "stream",
     "text": [
      "cost: 26\n",
      "grad: [  0. -48.]\n"
     ]
    }
   ],
   "source": [
    "x0 = np.asarray([8,8])\n",
    "delta = [1]\n",
    "cost = split_cost(d,x0)\n",
    "grad0 = (split_cost(d,[x0[0]+delta,x0[1]])-split_cost(d,x0))/delta*x0[0]\n",
    "grad1 = (split_cost(d,[x0[0],x0[1]+delta])-split_cost(d,x0))/delta*x0[1]\n",
    "grad = np.asarray([grad0[0],grad1[0]])\n",
    "print('cost:',cost)\n",
    "print('grad:', grad)\n"
   ]
  },
  {
   "cell_type": "code",
   "execution_count": 797,
   "metadata": {},
   "outputs": [
    {
     "name": "stdout",
     "output_type": "stream",
     "text": [
      "Optimization terminated successfully.\n",
      "         Current function value: 4.000000\n",
      "         Iterations: 12\n",
      "         Function evaluations: 47\n",
      "Optimization terminated successfully.\n",
      "         Current function value: 4.000000\n",
      "         Iterations: 18\n",
      "         Function evaluations: 60\n",
      "Optimization terminated successfully.\n",
      "         Current function value: 7.000000\n",
      "         Iterations: 19\n",
      "         Function evaluations: 58\n",
      "Optimization terminated successfully.\n",
      "         Current function value: 0.000000\n",
      "         Iterations: 15\n",
      "         Function evaluations: 52\n",
      "Optimization terminated successfully.\n",
      "         Current function value: 0.000000\n",
      "         Iterations: 20\n",
      "         Function evaluations: 61\n",
      "Optimization terminated successfully.\n",
      "         Current function value: 6.000000\n",
      "         Iterations: 17\n",
      "         Function evaluations: 55\n",
      "Optimization terminated successfully.\n",
      "         Current function value: 4.000000\n",
      "         Iterations: 15\n",
      "         Function evaluations: 52\n",
      "Optimization terminated successfully.\n",
      "         Current function value: 5.000000\n",
      "         Iterations: 14\n",
      "         Function evaluations: 55\n",
      "Optimization terminated successfully.\n",
      "         Current function value: 5.000000\n",
      "         Iterations: 14\n",
      "         Function evaluations: 55\n",
      "Optimization terminated successfully.\n",
      "         Current function value: 5.000000\n",
      "         Iterations: 14\n",
      "         Function evaluations: 55\n",
      "Optimization terminated successfully.\n",
      "         Current function value: 4.000000\n",
      "         Iterations: 19\n",
      "         Function evaluations: 63\n",
      "Optimization terminated successfully.\n",
      "         Current function value: 4.000000\n",
      "         Iterations: 21\n",
      "         Function evaluations: 65\n",
      "Optimization terminated successfully.\n",
      "         Current function value: 4.000000\n",
      "         Iterations: 21\n",
      "         Function evaluations: 62\n",
      "Optimization terminated successfully.\n",
      "         Current function value: 1.000000\n",
      "         Iterations: 19\n",
      "         Function evaluations: 60\n",
      "Optimization terminated successfully.\n",
      "         Current function value: 0.000000\n",
      "         Iterations: 27\n",
      "         Function evaluations: 74\n",
      "Optimization terminated successfully.\n",
      "         Current function value: 5.000000\n",
      "         Iterations: 18\n",
      "         Function evaluations: 62\n",
      "Optimization terminated successfully.\n",
      "         Current function value: 5.000000\n",
      "         Iterations: 19\n",
      "         Function evaluations: 63\n",
      "Optimization terminated successfully.\n",
      "         Current function value: 5.000000\n",
      "         Iterations: 19\n",
      "         Function evaluations: 63\n",
      "Optimization terminated successfully.\n",
      "         Current function value: 5.000000\n",
      "         Iterations: 19\n",
      "         Function evaluations: 63\n",
      "Optimization terminated successfully.\n",
      "         Current function value: 5.000000\n",
      "         Iterations: 19\n",
      "         Function evaluations: 63\n",
      "Optimization terminated successfully.\n",
      "         Current function value: 7.000000\n",
      "         Iterations: 19\n",
      "         Function evaluations: 58\n",
      "Optimization terminated successfully.\n",
      "         Current function value: 7.000000\n",
      "         Iterations: 54\n",
      "         Function evaluations: 202\n",
      "Optimization terminated successfully.\n",
      "         Current function value: 4.000000\n",
      "         Iterations: 22\n",
      "         Function evaluations: 61\n",
      "Optimization terminated successfully.\n",
      "         Current function value: 0.000000\n",
      "         Iterations: 25\n",
      "         Function evaluations: 68\n",
      "Optimization terminated successfully.\n",
      "         Current function value: 4.000000\n",
      "         Iterations: 19\n",
      "         Function evaluations: 59\n",
      "Optimization terminated successfully.\n",
      "         Current function value: 5.000000\n",
      "         Iterations: 21\n",
      "         Function evaluations: 63\n",
      "Optimization terminated successfully.\n",
      "         Current function value: 7.000000\n",
      "         Iterations: 19\n",
      "         Function evaluations: 60\n",
      "Optimization terminated successfully.\n",
      "         Current function value: 8.000000\n",
      "         Iterations: 21\n",
      "         Function evaluations: 66\n",
      "Optimization terminated successfully.\n",
      "         Current function value: 8.000000\n",
      "         Iterations: 21\n",
      "         Function evaluations: 66\n",
      "Optimization terminated successfully.\n",
      "         Current function value: 8.000000\n",
      "         Iterations: 21\n",
      "         Function evaluations: 66\n",
      "Optimization terminated successfully.\n",
      "         Current function value: 4.000000\n",
      "         Iterations: 18\n",
      "         Function evaluations: 57\n",
      "Optimization terminated successfully.\n",
      "         Current function value: 4.000000\n",
      "         Iterations: 25\n",
      "         Function evaluations: 74\n",
      "Optimization terminated successfully.\n",
      "         Current function value: 4.000000\n",
      "         Iterations: 22\n",
      "         Function evaluations: 65\n",
      "Optimization terminated successfully.\n",
      "         Current function value: 0.000000\n",
      "         Iterations: 19\n",
      "         Function evaluations: 60\n",
      "Optimization terminated successfully.\n",
      "         Current function value: 0.000000\n",
      "         Iterations: 24\n",
      "         Function evaluations: 70\n",
      "Optimization terminated successfully.\n",
      "         Current function value: 6.000000\n",
      "         Iterations: 19\n",
      "         Function evaluations: 59\n",
      "Optimization terminated successfully.\n",
      "         Current function value: 5.000000\n",
      "         Iterations: 20\n",
      "         Function evaluations: 65\n",
      "Optimization terminated successfully.\n",
      "         Current function value: 5.000000\n",
      "         Iterations: 20\n",
      "         Function evaluations: 65\n",
      "Optimization terminated successfully.\n",
      "         Current function value: 5.000000\n",
      "         Iterations: 20\n",
      "         Function evaluations: 65\n",
      "Optimization terminated successfully.\n",
      "         Current function value: 5.000000\n",
      "         Iterations: 20\n",
      "         Function evaluations: 65\n",
      "Optimization terminated successfully.\n",
      "         Current function value: 16.000000\n",
      "         Iterations: 15\n",
      "         Function evaluations: 53\n",
      "Optimization terminated successfully.\n",
      "         Current function value: 22.000000\n",
      "         Iterations: 17\n",
      "         Function evaluations: 57\n",
      "Optimization terminated successfully.\n",
      "         Current function value: 19.000000\n",
      "         Iterations: 19\n",
      "         Function evaluations: 61\n",
      "Optimization terminated successfully.\n",
      "         Current function value: 12.000000\n",
      "         Iterations: 19\n",
      "         Function evaluations: 57\n",
      "Optimization terminated successfully.\n",
      "         Current function value: 22.000000\n",
      "         Iterations: 21\n",
      "         Function evaluations: 60\n",
      "Optimization terminated successfully.\n",
      "         Current function value: 18.000000\n",
      "         Iterations: 17\n",
      "         Function evaluations: 58\n",
      "Optimization terminated successfully.\n",
      "         Current function value: 16.000000\n",
      "         Iterations: 17\n",
      "         Function evaluations: 59\n",
      "Optimization terminated successfully.\n",
      "         Current function value: 17.000000\n",
      "         Iterations: 17\n",
      "         Function evaluations: 61\n",
      "Optimization terminated successfully.\n",
      "         Current function value: 17.000000\n",
      "         Iterations: 17\n",
      "         Function evaluations: 61\n",
      "Optimization terminated successfully.\n",
      "         Current function value: 17.000000\n",
      "         Iterations: 17\n",
      "         Function evaluations: 61\n",
      "Optimization terminated successfully.\n",
      "         Current function value: 14.000000\n",
      "         Iterations: 17\n",
      "         Function evaluations: 55\n",
      "Optimization terminated successfully.\n",
      "         Current function value: 8.000000\n",
      "         Iterations: 21\n",
      "         Function evaluations: 70\n",
      "Optimization terminated successfully.\n",
      "         Current function value: 13.000000\n",
      "         Iterations: 21\n",
      "         Function evaluations: 63\n",
      "Optimization terminated successfully.\n",
      "         Current function value: 10.000000\n",
      "         Iterations: 17\n",
      "         Function evaluations: 55\n",
      "Optimization terminated successfully.\n",
      "         Current function value: 8.000000\n",
      "         Iterations: 21\n",
      "         Function evaluations: 62\n",
      "Optimization terminated successfully.\n",
      "         Current function value: 16.000000\n",
      "         Iterations: 17\n",
      "         Function evaluations: 56\n",
      "Optimization terminated successfully.\n",
      "         Current function value: 14.000000\n",
      "         Iterations: 17\n",
      "         Function evaluations: 57\n",
      "Optimization terminated successfully.\n",
      "         Current function value: 15.000000\n",
      "         Iterations: 19\n",
      "         Function evaluations: 63\n",
      "Optimization terminated successfully.\n",
      "         Current function value: 15.000000\n",
      "         Iterations: 19\n",
      "         Function evaluations: 63\n",
      "Optimization terminated successfully.\n",
      "         Current function value: 15.000000\n",
      "         Iterations: 19\n",
      "         Function evaluations: 63\n",
      "Optimization terminated successfully.\n",
      "         Current function value: 12.000000\n",
      "         Iterations: 14\n",
      "         Function evaluations: 53\n",
      "Optimization terminated successfully.\n",
      "         Current function value: 8.000000\n"
     ]
    },
    {
     "name": "stdout",
     "output_type": "stream",
     "text": [
      "         Iterations: 21\n",
      "         Function evaluations: 69\n",
      "Optimization terminated successfully.\n",
      "         Current function value: 9.000000\n",
      "         Iterations: 24\n",
      "         Function evaluations: 70\n",
      "Optimization terminated successfully.\n",
      "         Current function value: 8.000000\n",
      "         Iterations: 20\n",
      "         Function evaluations: 65\n",
      "Optimization terminated successfully.\n",
      "         Current function value: 6.000000\n",
      "         Iterations: 23\n",
      "         Function evaluations: 69\n",
      "Optimization terminated successfully.\n",
      "         Current function value: 14.000000\n",
      "         Iterations: 18\n",
      "         Function evaluations: 57\n",
      "Optimization terminated successfully.\n",
      "         Current function value: 12.000000\n",
      "         Iterations: 15\n",
      "         Function evaluations: 55\n",
      "Optimization terminated successfully.\n",
      "         Current function value: 13.000000\n",
      "         Iterations: 15\n",
      "         Function evaluations: 57\n",
      "Optimization terminated successfully.\n",
      "         Current function value: 13.000000\n",
      "         Iterations: 15\n",
      "         Function evaluations: 57\n",
      "Optimization terminated successfully.\n",
      "         Current function value: 13.000000\n",
      "         Iterations: 15\n",
      "         Function evaluations: 57\n",
      "Optimization terminated successfully.\n",
      "         Current function value: 8.000000\n",
      "         Iterations: 17\n",
      "         Function evaluations: 57\n",
      "Optimization terminated successfully.\n",
      "         Current function value: 8.000000\n",
      "         Iterations: 19\n",
      "         Function evaluations: 66\n",
      "Optimization terminated successfully.\n",
      "         Current function value: 8.000000\n",
      "         Iterations: 22\n",
      "         Function evaluations: 65\n",
      "Optimization terminated successfully.\n",
      "         Current function value: 5.000000\n",
      "         Iterations: 17\n",
      "         Function evaluations: 61\n",
      "Optimization terminated successfully.\n",
      "         Current function value: 4.000000\n",
      "         Iterations: 22\n",
      "         Function evaluations: 70\n",
      "Optimization terminated successfully.\n",
      "         Current function value: 11.000000\n",
      "         Iterations: 19\n",
      "         Function evaluations: 64\n",
      "Optimization terminated successfully.\n",
      "         Current function value: 9.000000\n",
      "         Iterations: 17\n",
      "         Function evaluations: 60\n",
      "Optimization terminated successfully.\n",
      "         Current function value: 9.000000\n",
      "         Iterations: 18\n",
      "         Function evaluations: 61\n",
      "Optimization terminated successfully.\n",
      "         Current function value: 9.000000\n",
      "         Iterations: 18\n",
      "         Function evaluations: 61\n",
      "Optimization terminated successfully.\n",
      "         Current function value: 9.000000\n",
      "         Iterations: 18\n",
      "         Function evaluations: 61\n",
      "Optimization terminated successfully.\n",
      "         Current function value: 8.000000\n",
      "         Iterations: 14\n",
      "         Function evaluations: 55\n",
      "Optimization terminated successfully.\n",
      "         Current function value: 8.000000\n",
      "         Iterations: 19\n",
      "         Function evaluations: 63\n",
      "Optimization terminated successfully.\n",
      "         Current function value: 8.000000\n",
      "         Iterations: 21\n",
      "         Function evaluations: 68\n",
      "Optimization terminated successfully.\n",
      "         Current function value: 4.000000\n",
      "         Iterations: 17\n",
      "         Function evaluations: 60\n",
      "Optimization terminated successfully.\n",
      "         Current function value: 4.000000\n",
      "         Iterations: 22\n",
      "         Function evaluations: 69\n",
      "Optimization terminated successfully.\n",
      "         Current function value: 10.000000\n",
      "         Iterations: 19\n",
      "         Function evaluations: 63\n",
      "Optimization terminated successfully.\n",
      "         Current function value: 8.000000\n",
      "         Iterations: 15\n",
      "         Function evaluations: 53\n",
      "Optimization terminated successfully.\n",
      "         Current function value: 9.000000\n",
      "         Iterations: 14\n",
      "         Function evaluations: 55\n",
      "Optimization terminated successfully.\n",
      "         Current function value: 9.000000\n",
      "         Iterations: 14\n",
      "         Function evaluations: 55\n",
      "Optimization terminated successfully.\n",
      "         Current function value: 9.000000\n",
      "         Iterations: 14\n",
      "         Function evaluations: 55\n",
      "Optimization terminated successfully.\n",
      "         Current function value: 8.000000\n",
      "         Iterations: 14\n",
      "         Function evaluations: 55\n",
      "Optimization terminated successfully.\n",
      "         Current function value: 8.000000\n",
      "         Iterations: 19\n",
      "         Function evaluations: 63\n",
      "Optimization terminated successfully.\n",
      "         Current function value: 11.000000\n",
      "         Iterations: 21\n",
      "         Function evaluations: 66\n",
      "Optimization terminated successfully.\n",
      "         Current function value: 4.000000\n",
      "         Iterations: 17\n",
      "         Function evaluations: 60\n",
      "Optimization terminated successfully.\n",
      "         Current function value: 4.000000\n",
      "         Iterations: 22\n",
      "         Function evaluations: 69\n",
      "Optimization terminated successfully.\n",
      "         Current function value: 10.000000\n",
      "         Iterations: 19\n",
      "         Function evaluations: 63\n",
      "Optimization terminated successfully.\n",
      "         Current function value: 8.000000\n",
      "         Iterations: 17\n",
      "         Function evaluations: 60\n",
      "Optimization terminated successfully.\n",
      "         Current function value: 9.000000\n",
      "         Iterations: 14\n",
      "         Function evaluations: 55\n",
      "Optimization terminated successfully.\n",
      "         Current function value: 9.000000\n",
      "         Iterations: 14\n",
      "         Function evaluations: 55\n",
      "Optimization terminated successfully.\n",
      "         Current function value: 9.000000\n",
      "         Iterations: 14\n",
      "         Function evaluations: 55\n"
     ]
    },
    {
     "data": {
      "text/plain": [
       "array([[ 0.  ,  0.  ],\n",
       "       [ 4.  ,  7.18],\n",
       "       [ 4.26,  7.17],\n",
       "       [ 4.04,  7.17],\n",
       "       [ 6.98,  7.26],\n",
       "       [ 6.74,  7.18],\n",
       "       [ 7.11,  7.26]])"
      ]
     },
     "execution_count": 797,
     "metadata": {},
     "output_type": "execute_result"
    }
   ],
   "source": [
    "from scipy.optimize import optimize\n",
    "result = np.asarray([0,0])\n",
    "result = result.reshape(1,2)\n",
    "\n",
    "x = np.linspace(4,13,num=10)\n",
    "y = np.linspace(4,13,num=10)\n",
    "for i in x:\n",
    "    for j in y:\n",
    "        minimum = optimize.fmin(split_cost,[i,j])\n",
    "        if split_cost(minimum) < 1:\n",
    "            result = np.append(result,minimum.reshape(1,2), axis = 0)\n",
    "\n",
    "result\n",
    "#minimum = optimize.fmin(split_cost,[6,8])"
   ]
  },
  {
   "cell_type": "code",
   "execution_count": null,
   "metadata": {
    "collapsed": true
   },
   "outputs": [],
   "source": []
  }
 ],
 "metadata": {
  "kernelspec": {
   "display_name": "Python 3",
   "language": "python",
   "name": "python3"
  },
  "language_info": {
   "codemirror_mode": {
    "name": "ipython",
    "version": 3
   },
   "file_extension": ".py",
   "mimetype": "text/x-python",
   "name": "python",
   "nbconvert_exporter": "python",
   "pygments_lexer": "ipython3",
   "version": "3.6.1"
  }
 },
 "nbformat": 4,
 "nbformat_minor": 2
}
